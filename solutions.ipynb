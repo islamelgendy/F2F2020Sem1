{
 "cells": [
  {
   "cell_type": "code",
   "execution_count": 1,
   "metadata": {},
   "outputs": [],
   "source": [
    "import numpy as np"
   ]
  },
  {
   "cell_type": "markdown",
   "metadata": {},
   "source": [
    "## Construct a list and a numpy array with numbers 1 to 1,000,000 , compare the times it takes to square all the numbers 10 times\n",
    "\n",
    "Before first iteration you have 0,1,2,3  \n",
    "before second iteration you have 0,1,4,9  \n",
    "before third you have 0,1,16,81  "
   ]
  },
  {
   "cell_type": "code",
   "execution_count": 34,
   "metadata": {},
   "outputs": [],
   "source": [
    "arr = np.arange(1000000)\n",
    "lst = list(range(1000000))"
   ]
  },
  {
   "cell_type": "code",
   "execution_count": 35,
   "metadata": {},
   "outputs": [
    {
     "name": "stdout",
     "output_type": "stream",
     "text": [
      "Wall time: 19.9 ms\n"
     ]
    }
   ],
   "source": [
    "%time for _ in range(10): arr = arr ** 2"
   ]
  },
  {
   "cell_type": "code",
   "execution_count": 41,
   "metadata": {},
   "outputs": [
    {
     "data": {
      "text/plain": [
       "689565697"
      ]
     },
     "execution_count": 41,
     "metadata": {},
     "output_type": "execute_result"
    }
   ],
   "source": [
    "arr[5]"
   ]
  },
  {
   "cell_type": "code",
   "execution_count": 36,
   "metadata": {},
   "outputs": [
    {
     "name": "stdout",
     "output_type": "stream",
     "text": [
      "Wall time: 1min 6s\n"
     ]
    }
   ],
   "source": [
    "%time for _ in range(10): lst = [x ** 2 for x in lst]"
   ]
  },
  {
   "cell_type": "markdown",
   "metadata": {},
   "source": [
    "### Why was one faster than the other? What are other reasons we might use one over the other?"
   ]
  },
  {
   "cell_type": "code",
   "execution_count": null,
   "metadata": {},
   "outputs": [],
   "source": []
  },
  {
   "cell_type": "markdown",
   "metadata": {},
   "source": [
    "### Look back at your np array, are the answers what you expected?"
   ]
  },
  {
   "cell_type": "code",
   "execution_count": null,
   "metadata": {},
   "outputs": [],
   "source": []
  },
  {
   "cell_type": "markdown",
   "metadata": {},
   "source": [
    "## Construct a 5x5 array with numbers 1 to 25 in order\n",
    "\n",
    "$$\n",
    "\\begin{array}{cc} \n",
    "1  & 2 & 3 & 4 & 5\\\\\n",
    "6 & 7 & 8 & 9 & 10\\\\\n",
    "11 & 12 & 13 & 14 & 15\\\\\n",
    "16 & 17 & 18 & 19 & 20\\\\\n",
    "21 & 22 & 23 & 24 & 25\n",
    "\\end{array}\n",
    "$$ "
   ]
  },
  {
   "cell_type": "code",
   "execution_count": 13,
   "metadata": {},
   "outputs": [
    {
     "data": {
      "text/plain": [
       "array([[ 1,  2,  3,  4,  5],\n",
       "       [ 6,  7,  8,  9, 10],\n",
       "       [11, 12, 13, 14, 15],\n",
       "       [16, 17, 18, 19, 20],\n",
       "       [21, 22, 23, 24, 25]])"
      ]
     },
     "execution_count": 13,
     "metadata": {},
     "output_type": "execute_result"
    }
   ],
   "source": [
    "np.arange(25).reshape(5,5) + 1"
   ]
  },
  {
   "cell_type": "markdown",
   "metadata": {},
   "source": [
    "### Construct this pattern as efficiently as you can\n",
    "\n",
    "$$\n",
    "\\begin{array}{cc} \n",
    "1 & 1 & 1 & 1 & 1\\\\\n",
    "1 & 0 & 0 & 0 & 1\\\\\n",
    "1 & 0 & 9 & 0 & 1\\\\\n",
    "1 & 0 & 0 & 0 & 1\\\\\n",
    "1 & 1 & 1 & 1 & 1\n",
    "\\end{array}\n",
    "$$ "
   ]
  },
  {
   "cell_type": "code",
   "execution_count": 3,
   "metadata": {},
   "outputs": [
    {
     "data": {
      "text/plain": [
       "array([[1., 1., 1., 1., 1.],\n",
       "       [1., 0., 0., 0., 1.],\n",
       "       [1., 0., 9., 0., 1.],\n",
       "       [1., 0., 0., 0., 1.],\n",
       "       [1., 1., 1., 1., 1.]])"
      ]
     },
     "execution_count": 3,
     "metadata": {},
     "output_type": "execute_result"
    }
   ],
   "source": [
    "a = np.ones((5,5))\n",
    "b = np.zeros((3,3))\n",
    "b[1,1] = 9\n",
    "a[1:-1,1:-1] = b\n",
    "a"
   ]
  },
  {
   "cell_type": "markdown",
   "metadata": {},
   "source": [
    "## Create an array of size 10 by 10, filled by random floats, of range 40 to 50"
   ]
  },
  {
   "cell_type": "code",
   "execution_count": 27,
   "metadata": {},
   "outputs": [],
   "source": [
    "a = 10*np.random.random_sample((10,10)) + 40"
   ]
  },
  {
   "cell_type": "code",
   "execution_count": 15,
   "metadata": {},
   "outputs": [],
   "source": [
    "b = a.copy()"
   ]
  },
  {
   "cell_type": "markdown",
   "metadata": {},
   "source": [
    "### Replace 10 of these values randomly with a suitable value to show it's missing"
   ]
  },
  {
   "cell_type": "code",
   "execution_count": 28,
   "metadata": {},
   "outputs": [],
   "source": [
    "a[np.random.randint(10, size=10), np.random.randint(10, size=10)] = np.nan"
   ]
  },
  {
   "cell_type": "code",
   "execution_count": 17,
   "metadata": {},
   "outputs": [],
   "source": [
    "b = b.ravel()"
   ]
  },
  {
   "cell_type": "code",
   "execution_count": 18,
   "metadata": {},
   "outputs": [
    {
     "data": {
      "text/plain": [
       "array([[46.39111198, 49.34731225, 44.89170138, 42.15064395, 44.55382197,\n",
       "        44.16137781, 47.27182763, 45.34534012,         nan, 46.03609431],\n",
       "       [49.91636407, 41.51635719, 44.02598472, 41.61980998, 45.43059031,\n",
       "        47.40239101, 42.02964448, 44.42088851, 45.50563992, 47.05133408],\n",
       "       [        nan, 47.13320565, 48.25327997, 44.7509674 , 40.01443741,\n",
       "        48.98581005,         nan, 48.5060458 ,         nan, 49.0709388 ],\n",
       "       [42.39524354, 42.63858369, 42.90860544,         nan, 48.9748844 ,\n",
       "        43.58848051, 44.01730645, 48.45079548, 45.8702253 ,         nan],\n",
       "       [45.93943565, 44.08171306, 44.04634405, 49.2743384 , 47.70839164,\n",
       "        48.18882159, 47.1217316 , 44.98650079, 48.81176923, 43.15175878],\n",
       "       [43.02135197, 41.94596831,         nan, 45.03762496, 41.66769417,\n",
       "        45.31349635, 49.21747894, 43.75984672, 42.00677179, 41.26935581],\n",
       "       [47.35328368, 46.37361862, 46.14385   , 49.93553264,         nan,\n",
       "        48.64940832,         nan, 43.77892543, 44.49187974, 48.29824423],\n",
       "       [45.64893252, 48.55158569, 42.49179523, 43.51047142,         nan,\n",
       "        48.1922405 , 40.13728129, 46.97333833, 41.35371768, 46.07768508],\n",
       "       [41.73248441, 41.55341724, 48.09647189, 40.05456174, 45.66120635,\n",
       "        49.13156366, 45.08258191, 44.04561328, 49.79890311, 47.57790655],\n",
       "       [49.15692025, 41.33428017, 41.80630789, 43.66886396, 40.38339658,\n",
       "        40.45627115, 47.64430005, 44.35632402, 41.81488931, 48.95088075]])"
      ]
     },
     "execution_count": 18,
     "metadata": {},
     "output_type": "execute_result"
    }
   ],
   "source": [
    "x = np.arange(100)\n",
    "np.random.shuffle(x)\n",
    "b[x[:10]] = np.nan\n",
    "b.reshape(10,10)"
   ]
  },
  {
   "cell_type": "markdown",
   "metadata": {},
   "source": [
    "### Extract only the numbers that aren't nans (as a single row)"
   ]
  },
  {
   "cell_type": "code",
   "execution_count": 29,
   "metadata": {},
   "outputs": [
    {
     "data": {
      "text/plain": [
       "array([42.78215055, 41.31054313, 41.2983776 , 47.30427763, 49.89498341,\n",
       "       45.29977891, 45.30304805, 47.69026015, 48.8358678 , 42.4604808 ,\n",
       "       40.0150388 , 49.68439351, 43.51216658, 49.79584198, 43.52780459,\n",
       "       45.08832655, 40.68359019, 46.36093576, 49.42399374, 42.36190312,\n",
       "       42.28383419, 40.61572479, 42.40873218, 46.60291599, 42.19216971,\n",
       "       40.62684216, 49.89280772, 44.74647217, 41.22760108, 47.70494511,\n",
       "       48.91786574, 40.24304885, 49.53383077, 43.12489807, 46.37077152,\n",
       "       44.28102536, 47.65171956, 44.25145186, 45.65169619, 47.1119958 ,\n",
       "       41.44746892, 49.69933537, 46.20217706, 45.92693065, 49.09447754,\n",
       "       44.72911152, 43.09015883, 43.8472887 , 45.83286241, 49.97289891,\n",
       "       49.23659096, 49.89118125, 49.55085974, 42.33216431, 47.02735981,\n",
       "       46.91952414, 49.07775491, 41.79820143, 44.05498933, 43.29594093,\n",
       "       43.67964868, 48.85461261, 43.25380402, 40.99714362, 42.9320541 ,\n",
       "       49.04054853, 40.03482916, 47.93120341, 47.1675708 , 42.73458099,\n",
       "       45.14728733, 43.81137655, 46.51427576, 40.55980975, 42.67468006,\n",
       "       42.38711998, 44.86002279, 48.30650626, 43.14697838, 45.3841896 ,\n",
       "       41.52475331, 41.86635681, 44.57994798, 41.53369287, 46.19626907,\n",
       "       41.12401245, 41.46552561, 40.84346622, 43.52339902, 42.78945084,\n",
       "       44.43988391])"
      ]
     },
     "execution_count": 29,
     "metadata": {},
     "output_type": "execute_result"
    }
   ],
   "source": [
    "a[~np.isnan(a)]"
   ]
  },
  {
   "cell_type": "markdown",
   "metadata": {},
   "source": [
    "### Fill the missing values with the mean of the rest of the matrix"
   ]
  },
  {
   "cell_type": "code",
   "execution_count": 45,
   "metadata": {},
   "outputs": [],
   "source": [
    "a = a.ravel()"
   ]
  },
  {
   "cell_type": "code",
   "execution_count": null,
   "metadata": {},
   "outputs": [],
   "source": []
  },
  {
   "cell_type": "code",
   "execution_count": 46,
   "metadata": {},
   "outputs": [],
   "source": [
    "a[np.isnan(a)] = np.mean(b[~np.isnan(a)])"
   ]
  },
  {
   "cell_type": "code",
   "execution_count": 47,
   "metadata": {},
   "outputs": [],
   "source": [
    "a = a.reshape(10,10)"
   ]
  },
  {
   "cell_type": "markdown",
   "metadata": {},
   "source": [
    "### Rank all the numbers according to order\n",
    "\n",
    "example: 43, 49, 47 would become 0, 2, 1"
   ]
  },
  {
   "cell_type": "code",
   "execution_count": 48,
   "metadata": {},
   "outputs": [
    {
     "data": {
      "text/plain": [
       "array([[28, 12, 11, 77, 98, 61, 52, 62, 79, 83],\n",
       "       [25,  0, 93, 36, 95, 38, 50,  6, 69, 90],\n",
       "       [54, 22, 20,  4, 24, 72, 19,  5, 97, 48],\n",
       "       [10, 80, 85,  2, 91, 60, 32, 53, 70, 44],\n",
       "       [78, 57, 43, 64, 75, 13, 94, 59, 68, 66],\n",
       "       [88, 47, 31, 41, 65, 99, 89, 55, 96, 92],\n",
       "       [21, 74, 73, 87, 17, 42, 35, 56, 39, 84],\n",
       "       [34,  8, 30, 86,  1, 81, 76, 27, 51, 40],\n",
       "       [71,  3, 26, 23, 49, 82, 33, 63, 15, 18],\n",
       "       [46, 58, 16, 67,  9, 14,  7, 37, 29, 45]], dtype=int64)"
      ]
     },
     "execution_count": 48,
     "metadata": {},
     "output_type": "execute_result"
    }
   ],
   "source": [
    "a.ravel().argsort().argsort().reshape(10,10)"
   ]
  },
  {
   "cell_type": "code",
   "execution_count": 49,
   "metadata": {},
   "outputs": [
    {
     "data": {
      "text/plain": [
       "array([[42.78215055, 41.31054313, 41.2983776 , 47.30427763, 49.89498341,\n",
       "        45.29977891, 45.28943562, 45.30304805, 47.69026015, 48.8358678 ],\n",
       "       [42.4604808 , 40.0150388 , 49.68439351, 43.51216658, 49.79584198,\n",
       "        43.52780459, 45.08832655, 40.68359019, 46.36093576, 49.42399374],\n",
       "       [45.28943562, 42.36190312, 42.28383419, 40.61572479, 42.40873218,\n",
       "        46.60291599, 42.19216971, 40.62684216, 49.89280772, 44.74647217],\n",
       "       [41.22760108, 47.70494511, 48.91786574, 40.24304885, 49.53383077,\n",
       "        45.28943562, 43.12489807, 45.28943562, 46.37077152, 44.28102536],\n",
       "       [47.65171956, 45.28943562, 44.25145186, 45.65169619, 47.1119958 ,\n",
       "        41.44746892, 49.69933537, 45.28943562, 46.20217706, 45.92693065],\n",
       "       [49.09447754, 44.72911152, 43.09015883, 43.8472887 , 45.83286241,\n",
       "        49.97289891, 49.23659096, 45.28943562, 49.89118125, 49.55085974],\n",
       "       [42.33216431, 47.02735981, 46.91952414, 49.07775491, 41.79820143,\n",
       "        44.05498933, 43.29594093, 45.28943562, 43.67964868, 48.85461261],\n",
       "       [43.25380402, 40.99714362, 42.9320541 , 49.04054853, 40.03482916,\n",
       "        47.93120341, 47.1675708 , 42.73458099, 45.14728733, 43.81137655],\n",
       "       [46.51427576, 40.55980975, 42.67468006, 42.38711998, 44.86002279,\n",
       "        48.30650626, 43.14697838, 45.3841896 , 41.52475331, 41.86635681],\n",
       "       [44.57994798, 45.28943562, 41.53369287, 46.19626907, 41.12401245,\n",
       "        41.46552561, 40.84346622, 43.52339902, 42.78945084, 44.43988391]])"
      ]
     },
     "execution_count": 49,
     "metadata": {},
     "output_type": "execute_result"
    }
   ],
   "source": [
    "a"
   ]
  },
  {
   "cell_type": "code",
   "execution_count": null,
   "metadata": {},
   "outputs": [],
   "source": []
  }
 ],
 "metadata": {
  "kernelspec": {
   "display_name": "Python 3",
   "language": "python",
   "name": "python3"
  },
  "language_info": {
   "codemirror_mode": {
    "name": "ipython",
    "version": 3
   },
   "file_extension": ".py",
   "mimetype": "text/x-python",
   "name": "python",
   "nbconvert_exporter": "python",
   "pygments_lexer": "ipython3",
   "version": "3.6.5"
  },
  "toc": {
   "base_numbering": 1,
   "nav_menu": {},
   "number_sections": true,
   "sideBar": true,
   "skip_h1_title": false,
   "title_cell": "Table of Contents",
   "title_sidebar": "Contents",
   "toc_cell": false,
   "toc_position": {},
   "toc_section_display": true,
   "toc_window_display": false
  }
 },
 "nbformat": 4,
 "nbformat_minor": 4
}
