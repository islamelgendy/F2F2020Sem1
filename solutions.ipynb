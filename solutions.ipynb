{
 "cells": [
  {
   "cell_type": "code",
   "execution_count": 1,
   "metadata": {},
   "outputs": [],
   "source": [
    "import numpy as np"
   ]
  },
  {
   "cell_type": "markdown",
   "metadata": {},
   "source": [
    "## Construct a list and a numpy array with numbers 1 to 1,000,000 , compare the times it takes to square all the numbers 10 times\n",
    "\n",
    "Before first iteration you have 0,1,2,3  \n",
    "before second iteration you have 0,1,4,9  \n",
    "before third you have 0,1,16,81  "
   ]
  },
  {
   "cell_type": "code",
   "execution_count": 2,
   "metadata": {},
   "outputs": [],
   "source": [
    "arr = np.arange(1000000)\n",
    "lst = list(range(1000000))"
   ]
  },
  {
   "cell_type": "code",
   "execution_count": 3,
   "metadata": {},
   "outputs": [
    {
     "data": {
      "text/plain": [
       "1"
      ]
     },
     "execution_count": 3,
     "metadata": {},
     "output_type": "execute_result"
    }
   ],
   "source": [
    "lst[1]"
   ]
  },
  {
   "cell_type": "code",
   "execution_count": 4,
   "metadata": {},
   "outputs": [
    {
     "name": "stdout",
     "output_type": "stream",
     "text": [
      "Wall time: 24.9 ms\n"
     ]
    }
   ],
   "source": [
    "%time for _ in range(10): arr = arr ** 2"
   ]
  },
  {
   "cell_type": "code",
   "execution_count": 5,
   "metadata": {},
   "outputs": [
    {
     "data": {
      "text/plain": [
       "689565697"
      ]
     },
     "execution_count": 5,
     "metadata": {},
     "output_type": "execute_result"
    }
   ],
   "source": [
    "arr[5]"
   ]
  },
  {
   "cell_type": "code",
   "execution_count": 6,
   "metadata": {},
   "outputs": [
    {
     "name": "stdout",
     "output_type": "stream",
     "text": [
      "Wall time: 1min 19s\n"
     ]
    }
   ],
   "source": [
    "%time for _ in range(10): lst = [x ** 2 for x in lst]"
   ]
  },
  {
   "cell_type": "markdown",
   "metadata": {},
   "source": [
    "### Why was one faster than the other? What are other reasons we might use one over the other?"
   ]
  },
  {
   "cell_type": "code",
   "execution_count": 7,
   "metadata": {},
   "outputs": [
    {
     "data": {
      "text/plain": [
       "dtype('int32')"
      ]
     },
     "execution_count": 7,
     "metadata": {},
     "output_type": "execute_result"
    }
   ],
   "source": []
  },
  {
   "cell_type": "code",
   "execution_count": 8,
   "metadata": {},
   "outputs": [],
   "source": [
    "x = 100"
   ]
  },
  {
   "cell_type": "code",
   "execution_count": 9,
   "metadata": {},
   "outputs": [
    {
     "data": {
      "text/plain": [
       "10000"
      ]
     },
     "execution_count": 9,
     "metadata": {},
     "output_type": "execute_result"
    }
   ],
   "source": [
    "x = x**2\n",
    "x"
   ]
  },
  {
   "cell_type": "markdown",
   "metadata": {},
   "source": [
    "### Look back at your np array, are the answers what you expected?"
   ]
  },
  {
   "cell_type": "code",
   "execution_count": 10,
   "metadata": {},
   "outputs": [
    {
     "data": {
      "text/plain": [
       "array([          0,           1,           0, -1876701183,           0],\n",
       "      dtype=int32)"
      ]
     },
     "execution_count": 10,
     "metadata": {},
     "output_type": "execute_result"
    }
   ],
   "source": [
    "arr[0:5]"
   ]
  },
  {
   "cell_type": "markdown",
   "metadata": {},
   "source": [
    "## Create a numpy array with the single value of 8. Raise it to the 21st power. Do you get an accurate value?"
   ]
  },
  {
   "cell_type": "code",
   "execution_count": 11,
   "metadata": {},
   "outputs": [],
   "source": [
    "x = np.array([8])"
   ]
  },
  {
   "cell_type": "code",
   "execution_count": 12,
   "metadata": {},
   "outputs": [
    {
     "data": {
      "text/plain": [
       "array([0], dtype=int32)"
      ]
     },
     "execution_count": 12,
     "metadata": {},
     "output_type": "execute_result"
    }
   ],
   "source": [
    "x**21"
   ]
  },
  {
   "cell_type": "code",
   "execution_count": null,
   "metadata": {},
   "outputs": [],
   "source": []
  },
  {
   "cell_type": "markdown",
   "metadata": {},
   "source": [
    "### What change can you make to the numpy array/in making a new array to get an accurate answer for 8 to the power 21"
   ]
  },
  {
   "cell_type": "code",
   "execution_count": 13,
   "metadata": {},
   "outputs": [
    {
     "data": {
      "text/plain": [
       "array([9223372036854775808], dtype=uint64)"
      ]
     },
     "execution_count": 13,
     "metadata": {},
     "output_type": "execute_result"
    }
   ],
   "source": [
    "np.array([8], dtype = 'uint64') ** 21"
   ]
  },
  {
   "cell_type": "code",
   "execution_count": 14,
   "metadata": {},
   "outputs": [
    {
     "data": {
      "text/plain": [
       "9223372036854775808"
      ]
     },
     "execution_count": 14,
     "metadata": {},
     "output_type": "execute_result"
    }
   ],
   "source": [
    "8**21"
   ]
  },
  {
   "cell_type": "markdown",
   "metadata": {},
   "source": [
    "## Construct a 5x5 array with numbers 1 to 25 in order\n",
    "\n",
    "$$\n",
    "\\begin{array}{cc} \n",
    "1  & 2 & 3 & 4 & 5\\\\\n",
    "6 & 7 & 8 & 9 & 10\\\\\n",
    "11 & 12 & 13 & 14 & 15\\\\\n",
    "16 & 17 & 18 & 19 & 20\\\\\n",
    "21 & 22 & 23 & 24 & 25\n",
    "\\end{array}\n",
    "$$ "
   ]
  },
  {
   "cell_type": "code",
   "execution_count": 15,
   "metadata": {},
   "outputs": [
    {
     "data": {
      "text/plain": [
       "array([[ 1,  2,  3,  4,  5],\n",
       "       [ 6,  7,  8,  9, 10],\n",
       "       [11, 12, 13, 14, 15],\n",
       "       [16, 17, 18, 19, 20],\n",
       "       [21, 22, 23, 24, 25]])"
      ]
     },
     "execution_count": 15,
     "metadata": {},
     "output_type": "execute_result"
    }
   ],
   "source": [
    "np.arange(25).reshape(5,5) + 1"
   ]
  },
  {
   "cell_type": "markdown",
   "metadata": {},
   "source": [
    "### Construct this pattern as efficiently as you can\n",
    "\n",
    "$$\n",
    "\\begin{array}{cc} \n",
    "1 & 1 & 1 & 1 & 1\\\\\n",
    "1 & 0 & 0 & 0 & 1\\\\\n",
    "1 & 0 & 9 & 0 & 1\\\\\n",
    "1 & 0 & 0 & 0 & 1\\\\\n",
    "1 & 1 & 1 & 1 & 1\n",
    "\\end{array}\n",
    "$$ "
   ]
  },
  {
   "cell_type": "code",
   "execution_count": 16,
   "metadata": {},
   "outputs": [
    {
     "data": {
      "text/plain": [
       "array([[1., 1., 1., 1., 1.],\n",
       "       [1., 0., 0., 0., 1.],\n",
       "       [1., 0., 9., 0., 1.],\n",
       "       [1., 0., 0., 0., 1.],\n",
       "       [1., 1., 1., 1., 1.]])"
      ]
     },
     "execution_count": 16,
     "metadata": {},
     "output_type": "execute_result"
    }
   ],
   "source": [
    "a = np.ones((5,5))\n",
    "b = np.zeros((3,3))\n",
    "b[1,1] = 9\n",
    "a[1:-1,1:-1] = b\n",
    "a"
   ]
  },
  {
   "cell_type": "markdown",
   "metadata": {},
   "source": [
    "## Create an array of size 10 by 10, filled by random floats, of range 40 to 50"
   ]
  },
  {
   "cell_type": "code",
   "execution_count": 17,
   "metadata": {},
   "outputs": [],
   "source": [
    "a = 10*np.random.random_sample((10,10)) + 40"
   ]
  },
  {
   "cell_type": "code",
   "execution_count": 18,
   "metadata": {},
   "outputs": [],
   "source": [
    "b = a.copy()"
   ]
  },
  {
   "cell_type": "markdown",
   "metadata": {},
   "source": [
    "### Replace 10 of these values randomly with a suitable value to show it's missing"
   ]
  },
  {
   "cell_type": "code",
   "execution_count": 19,
   "metadata": {},
   "outputs": [],
   "source": [
    "a[np.random.randint(10, size=10), np.random.randint(10, size=10)] = np.nan"
   ]
  },
  {
   "cell_type": "code",
   "execution_count": 20,
   "metadata": {},
   "outputs": [
    {
     "data": {
      "text/plain": [
       "array([45.97058543, 42.84485871, 49.76285748, 41.58545143, 41.65511383])"
      ]
     },
     "execution_count": 20,
     "metadata": {},
     "output_type": "execute_result"
    }
   ],
   "source": [
    "a[[1,4,8,2,3],[6,8,3,5,6]]"
   ]
  },
  {
   "cell_type": "code",
   "execution_count": 21,
   "metadata": {},
   "outputs": [],
   "source": [
    "b = b.ravel()"
   ]
  },
  {
   "cell_type": "code",
   "execution_count": 22,
   "metadata": {},
   "outputs": [
    {
     "data": {
      "text/plain": [
       "array([[44.13274579, 48.0506771 , 48.65759433, 49.17411366, 43.76690368,\n",
       "        48.16059193,         nan,         nan, 45.5399368 , 48.25640301],\n",
       "       [46.88815193, 41.2178183 ,         nan, 47.65383138, 42.30283512,\n",
       "        40.88066646, 45.97058543, 41.25351301, 47.04274072, 43.00073214],\n",
       "       [46.62808017, 45.50820244, 45.61519784, 43.87031224, 45.67786933,\n",
       "        41.58545143,         nan, 43.27672507, 42.99209785, 40.38672976],\n",
       "       [43.39683384, 45.63957517, 47.21084847, 47.44511774, 46.88168565,\n",
       "        46.47943262, 41.65511383, 47.3560906 , 44.76901263, 42.98361153],\n",
       "       [        nan, 46.92362057, 42.16571065, 47.86410942, 48.9706669 ,\n",
       "        49.44876472, 46.45956174, 44.14097412, 42.84485871, 42.5920899 ],\n",
       "       [40.25521985, 48.0756283 , 47.25351964, 42.61365373, 46.25667075,\n",
       "        42.99220431, 41.08417718, 49.9335825 ,         nan, 44.90522538],\n",
       "       [43.08727717, 46.57972811,         nan, 48.84506562,         nan,\n",
       "        42.83648825, 43.64378076, 40.5881698 , 45.85066835, 40.28147543],\n",
       "       [47.21351353, 47.31089352, 43.4956701 , 42.41360211, 42.91296099,\n",
       "        49.31933577, 40.26019885, 44.02316905, 47.13534058, 49.7892581 ],\n",
       "       [        nan, 45.39401645, 44.25859347,         nan, 42.32677538,\n",
       "        40.89189383, 47.26057749, 46.06821936, 44.39344596, 47.76292023],\n",
       "       [44.26766214, 44.4867884 , 40.88702834, 44.54279727, 49.74101851,\n",
       "        48.31405989, 42.10538024, 43.40905728, 44.71497424, 41.06398784]])"
      ]
     },
     "execution_count": 22,
     "metadata": {},
     "output_type": "execute_result"
    }
   ],
   "source": [
    "x = np.arange(100)\n",
    "np.random.shuffle(x)\n",
    "b[x[:10]] = np.nan\n",
    "b.reshape(10,10)"
   ]
  },
  {
   "cell_type": "markdown",
   "metadata": {},
   "source": [
    "### Extract only the numbers that aren't nans (as a single row)"
   ]
  },
  {
   "cell_type": "code",
   "execution_count": 23,
   "metadata": {},
   "outputs": [
    {
     "data": {
      "text/plain": [
       "array([44.13274579, 48.0506771 , 48.65759433, 49.17411366, 43.76690368,\n",
       "       48.16059193, 45.43853908, 45.5399368 , 48.25640301, 46.88815193,\n",
       "       41.2178183 , 42.26343172, 47.65383138, 42.30283512, 40.88066646,\n",
       "       45.97058543, 41.25351301, 47.04274072, 43.00073214, 46.62808017,\n",
       "       45.50820244, 43.87031224, 45.67786933, 41.58545143, 47.57237749,\n",
       "       43.27672507, 42.99209785, 40.38672976, 43.39683384, 45.63957517,\n",
       "       47.21084847, 46.88168565, 46.47943262, 41.65511383, 47.3560906 ,\n",
       "       44.76901263, 42.36960387, 46.92362057, 42.16571065, 47.86410942,\n",
       "       48.9706669 , 46.45956174, 44.14097412, 42.84485871, 42.5920899 ,\n",
       "       40.25521985, 48.0756283 , 47.25351964, 42.61365373, 46.25667075,\n",
       "       42.99220431, 41.08417718, 49.9335825 , 49.11168736, 44.90522538,\n",
       "       43.08727717, 46.57972811, 48.84506562, 47.20513523, 42.83648825,\n",
       "       43.64378076, 40.5881698 , 45.85066835, 40.28147543, 47.21351353,\n",
       "       43.4956701 , 42.41360211, 42.91296099, 49.31933577, 40.26019885,\n",
       "       44.02316905, 47.13534058, 44.3601038 , 45.39401645, 44.25859347,\n",
       "       49.76285748, 42.32677538, 40.89189383, 47.26057749, 46.06821936,\n",
       "       44.39344596, 44.4867884 , 40.88702834, 44.54279727, 49.74101851,\n",
       "       48.31405989, 42.10538024, 43.40905728, 44.71497424, 41.06398784])"
      ]
     },
     "execution_count": 23,
     "metadata": {},
     "output_type": "execute_result"
    }
   ],
   "source": [
    "a[~np.isnan(a)]"
   ]
  },
  {
   "cell_type": "markdown",
   "metadata": {},
   "source": [
    "### Fill the missing values with the mean of the rest of the matrix"
   ]
  },
  {
   "cell_type": "code",
   "execution_count": 24,
   "metadata": {},
   "outputs": [],
   "source": [
    "a = a.ravel()"
   ]
  },
  {
   "cell_type": "code",
   "execution_count": null,
   "metadata": {},
   "outputs": [],
   "source": []
  },
  {
   "cell_type": "code",
   "execution_count": 25,
   "metadata": {},
   "outputs": [],
   "source": [
    "a[np.isnan(a)] = np.mean(a[~np.isnan(a)])"
   ]
  },
  {
   "cell_type": "code",
   "execution_count": 26,
   "metadata": {},
   "outputs": [],
   "source": [
    "a = a.reshape(10,10)"
   ]
  },
  {
   "cell_type": "markdown",
   "metadata": {},
   "source": [
    "### Rank all the numbers according to order\n",
    "\n",
    "example: 43, 49, 47 would become 0, 2, 1"
   ]
  },
  {
   "cell_type": "code",
   "execution_count": 27,
   "metadata": {},
   "outputs": [
    {
     "data": {
      "text/plain": [
       "array([[38, 86, 91, 95, 35, 88, 51, 59, 61, 89],\n",
       "       [73, 10, 16, 84, 17,  5, 65, 11, 75, 28],\n",
       "       [71, 60, 55, 36, 63, 12, 83, 30, 26,  3],\n",
       "       [31, 62, 78, 53, 72, 69, 13, 82, 46, 47],\n",
       "       [19, 74, 15, 85, 93, 56, 68, 39, 24, 21],\n",
       "       [ 0, 87, 80, 22, 67, 27,  9, 99, 94, 57],\n",
       "       [29, 70, 54, 92, 77, 23, 34,  4, 64,  2],\n",
       "       [79, 52, 33, 20, 25, 96,  1, 37, 76, 50],\n",
       "       [41, 58, 40, 98, 18,  7, 81, 66, 42, 49],\n",
       "       [48, 43,  6, 44, 97, 90, 14, 32, 45,  8]], dtype=int64)"
      ]
     },
     "execution_count": 27,
     "metadata": {},
     "output_type": "execute_result"
    }
   ],
   "source": [
    "a.ravel().argsort().argsort().reshape(10,10)"
   ]
  },
  {
   "cell_type": "code",
   "execution_count": 28,
   "metadata": {},
   "outputs": [
    {
     "data": {
      "text/plain": [
       "array([[44.13274579, 48.0506771 , 48.65759433, 49.17411366, 43.76690368,\n",
       "        48.16059193, 44.85582411, 45.43853908, 45.5399368 , 48.25640301],\n",
       "       [46.88815193, 41.2178183 , 42.26343172, 47.65383138, 42.30283512,\n",
       "        40.88066646, 45.97058543, 41.25351301, 47.04274072, 43.00073214],\n",
       "       [46.62808017, 45.50820244, 44.85582411, 43.87031224, 45.67786933,\n",
       "        41.58545143, 47.57237749, 43.27672507, 42.99209785, 40.38672976],\n",
       "       [43.39683384, 45.63957517, 47.21084847, 44.85582411, 46.88168565,\n",
       "        46.47943262, 41.65511383, 47.3560906 , 44.76901263, 44.85582411],\n",
       "       [42.36960387, 46.92362057, 42.16571065, 47.86410942, 48.9706669 ,\n",
       "        44.85582411, 46.45956174, 44.14097412, 42.84485871, 42.5920899 ],\n",
       "       [40.25521985, 48.0756283 , 47.25351964, 42.61365373, 46.25667075,\n",
       "        42.99220431, 41.08417718, 49.9335825 , 49.11168736, 44.90522538],\n",
       "       [43.08727717, 46.57972811, 44.85582411, 48.84506562, 47.20513523,\n",
       "        42.83648825, 43.64378076, 40.5881698 , 45.85066835, 40.28147543],\n",
       "       [47.21351353, 44.85582411, 43.4956701 , 42.41360211, 42.91296099,\n",
       "        49.31933577, 40.26019885, 44.02316905, 47.13534058, 44.85582411],\n",
       "       [44.3601038 , 45.39401645, 44.25859347, 49.76285748, 42.32677538,\n",
       "        40.89189383, 47.26057749, 46.06821936, 44.39344596, 44.85582411],\n",
       "       [44.85582411, 44.4867884 , 40.88702834, 44.54279727, 49.74101851,\n",
       "        48.31405989, 42.10538024, 43.40905728, 44.71497424, 41.06398784]])"
      ]
     },
     "execution_count": 28,
     "metadata": {},
     "output_type": "execute_result"
    }
   ],
   "source": [
    "a"
   ]
  },
  {
   "cell_type": "code",
   "execution_count": null,
   "metadata": {},
   "outputs": [],
   "source": []
  }
 ],
 "metadata": {
  "kernelspec": {
   "display_name": "Python 3",
   "language": "python",
   "name": "python3"
  },
  "language_info": {
   "codemirror_mode": {
    "name": "ipython",
    "version": 3
   },
   "file_extension": ".py",
   "mimetype": "text/x-python",
   "name": "python",
   "nbconvert_exporter": "python",
   "pygments_lexer": "ipython3",
   "version": "3.6.5"
  },
  "toc": {
   "base_numbering": 1,
   "nav_menu": {},
   "number_sections": true,
   "sideBar": true,
   "skip_h1_title": false,
   "title_cell": "Table of Contents",
   "title_sidebar": "Contents",
   "toc_cell": false,
   "toc_position": {},
   "toc_section_display": true,
   "toc_window_display": false
  }
 },
 "nbformat": 4,
 "nbformat_minor": 4
}
