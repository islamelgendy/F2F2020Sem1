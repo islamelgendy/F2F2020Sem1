{
 "cells": [
  {
   "cell_type": "code",
   "execution_count": 1,
   "metadata": {},
   "outputs": [],
   "source": [
    "import numpy as np"
   ]
  },
  {
   "cell_type": "markdown",
   "metadata": {},
   "source": [
    "## Construct a list and a numpy array with numbers 1 to 1,000,000 , compare the times it takes to square all the numbers 10 times\n",
    "\n",
    "Before first iteration you have 0,1,2,3  \n",
    "before second iteration you have 0,1,4,9  \n",
    "before third you have 0,1,16,81  "
   ]
  },
  {
   "cell_type": "code",
   "execution_count": null,
   "metadata": {},
   "outputs": [],
   "source": []
  },
  {
   "cell_type": "markdown",
   "metadata": {},
   "source": [
    "### Why was one faster than the other? What are other reasons we might use one over the other?"
   ]
  },
  {
   "cell_type": "code",
   "execution_count": null,
   "metadata": {},
   "outputs": [],
   "source": []
  },
  {
   "cell_type": "markdown",
   "metadata": {},
   "source": [
    "### Look back at your np array, are the answers what you expected?"
   ]
  },
  {
   "cell_type": "code",
   "execution_count": null,
   "metadata": {},
   "outputs": [],
   "source": []
  },
  {
   "cell_type": "markdown",
   "metadata": {},
   "source": [
    "## Create a numpy array with the single value of 8. Raise it to the 21st power. Do you get an accurate value?"
   ]
  },
  {
   "cell_type": "code",
   "execution_count": null,
   "metadata": {},
   "outputs": [],
   "source": []
  },
  {
   "cell_type": "markdown",
   "metadata": {},
   "source": [
    "## What change can you make to the numpy array/in making a new array to get an accurate answer for 8 to the power 21"
   ]
  },
  {
   "cell_type": "code",
   "execution_count": null,
   "metadata": {},
   "outputs": [],
   "source": []
  },
  {
   "cell_type": "code",
   "execution_count": null,
   "metadata": {},
   "outputs": [],
   "source": []
  },
  {
   "cell_type": "markdown",
   "metadata": {},
   "source": [
    "## Construct a 5x5 array with numbers 1 to 25 in order\n",
    "\n",
    "$$\n",
    "\\begin{array}{cc} \n",
    "1  & 2 & 3 & 4 & 5\\\\\n",
    "6 & 7 & 8 & 9 & 10\\\\\n",
    "11 & 12 & 13 & 14 & 15\\\\\n",
    "16 & 17 & 18 & 19 & 20\\\\\n",
    "21 & 22 & 23 & 24 & 25\n",
    "\\end{array}\n",
    "$$ "
   ]
  },
  {
   "cell_type": "code",
   "execution_count": null,
   "metadata": {},
   "outputs": [],
   "source": []
  },
  {
   "cell_type": "markdown",
   "metadata": {},
   "source": [
    "### Construct this pattern as efficiently as you can\n",
    "\n",
    "$$\n",
    "\\begin{array}{cc} \n",
    "1 & 1 & 1 & 1 & 1\\\\\n",
    "1 & 0 & 0 & 0 & 1\\\\\n",
    "1 & 0 & 9 & 0 & 1\\\\\n",
    "1 & 0 & 0 & 0 & 1\\\\\n",
    "1 & 1 & 1 & 1 & 1\n",
    "\\end{array}\n",
    "$$ "
   ]
  },
  {
   "cell_type": "code",
   "execution_count": null,
   "metadata": {},
   "outputs": [],
   "source": []
  },
  {
   "cell_type": "markdown",
   "metadata": {},
   "source": [
    "## Create an array of size 10 by 10, filled by random floats, of range 40 to 50"
   ]
  },
  {
   "cell_type": "code",
   "execution_count": null,
   "metadata": {},
   "outputs": [],
   "source": []
  },
  {
   "cell_type": "markdown",
   "metadata": {},
   "source": [
    "### Replace 10 of these values randomly with a suitable value to show it's missing"
   ]
  },
  {
   "cell_type": "code",
   "execution_count": null,
   "metadata": {},
   "outputs": [],
   "source": []
  },
  {
   "cell_type": "markdown",
   "metadata": {},
   "source": [
    "### Extract only the numbers that aren't nans (as a single row)"
   ]
  },
  {
   "cell_type": "code",
   "execution_count": null,
   "metadata": {},
   "outputs": [],
   "source": []
  },
  {
   "cell_type": "markdown",
   "metadata": {},
   "source": [
    "### Fill the missing values with the mean of the rest of the matrix"
   ]
  },
  {
   "cell_type": "code",
   "execution_count": null,
   "metadata": {},
   "outputs": [],
   "source": []
  },
  {
   "cell_type": "markdown",
   "metadata": {},
   "source": [
    "### Rank all the numbers according to order\n",
    "\n",
    "example: \n",
    "\n",
    "$$\n",
    "\\begin{array}{cc} \n",
    "45.2 & 47.9 & 42.1 \\\\\n",
    "40.1 & 43 & 49.9 \\\\\n",
    "42.2 & 41.0 & 45.4\n",
    "\\end{array}\n",
    "$$ \n",
    "\n",
    "becomes\n",
    "\n",
    "$$\n",
    "\\begin{array}{cc} \n",
    "5 & 7 & 2 \\\\\n",
    "0 & 4 & 8 \\\\\n",
    "3 & 1 & 6\n",
    "\\end{array}\n",
    "$$ "
   ]
  },
  {
   "cell_type": "code",
   "execution_count": null,
   "metadata": {},
   "outputs": [],
   "source": []
  }
 ],
 "metadata": {
  "kernelspec": {
   "display_name": "Python 3",
   "language": "python",
   "name": "python3"
  },
  "language_info": {
   "codemirror_mode": {
    "name": "ipython",
    "version": 3
   },
   "file_extension": ".py",
   "mimetype": "text/x-python",
   "name": "python",
   "nbconvert_exporter": "python",
   "pygments_lexer": "ipython3",
   "version": "3.6.5"
  },
  "toc": {
   "base_numbering": 1,
   "nav_menu": {},
   "number_sections": true,
   "sideBar": true,
   "skip_h1_title": false,
   "title_cell": "Table of Contents",
   "title_sidebar": "Contents",
   "toc_cell": false,
   "toc_position": {},
   "toc_section_display": true,
   "toc_window_display": false
  }
 },
 "nbformat": 4,
 "nbformat_minor": 4
}
